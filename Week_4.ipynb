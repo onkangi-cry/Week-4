{
  "nbformat": 4,
  "nbformat_minor": 0,
  "metadata": {
    "colab": {
      "provenance": [],
      "authorship_tag": "ABX9TyPS64MQEVx2WGKWCproXH8g",
      "include_colab_link": true
    },
    "kernelspec": {
      "name": "python3",
      "display_name": "Python 3"
    },
    "language_info": {
      "name": "python"
    }
  },
  "cells": [
    {
      "cell_type": "markdown",
      "metadata": {
        "id": "view-in-github",
        "colab_type": "text"
      },
      "source": [
        "<a href=\"https://colab.research.google.com/github/onkangi-cry/Week-4/blob/main/Week_4.ipynb\" target=\"_parent\"><img src=\"https://colab.research.google.com/assets/colab-badge.svg\" alt=\"Open In Colab\"/></a>"
      ]
    },
    {
      "cell_type": "code",
      "execution_count": 1,
      "metadata": {
        "id": "oSkBkI_QhYCh"
      },
      "outputs": [],
      "source": [
        "# THE AI SUGGESTED CODE IS\n",
        "from operator import itemgetter\n",
        "\n",
        "def sort_dicts_by_key_ai(data: list[dict], key: str, reverse: bool = False) -> list[dict]:\n",
        "    \"\"\"\n",
        "    Sort a list of dictionaries by the given key.\n",
        "    Uses operator.itemgetter for efficiency.\n",
        "    \"\"\"\n",
        "    return sorted(data, key=itemgetter(key), reverse=reverse)\n",
        "\n"
      ]
    },
    {
      "cell_type": "code",
      "source": [
        "# mANUAL IMPLEMENTATION IS\n",
        "def sort_dicts_by_key_manual(data: list[dict], key: str, reverse: bool = False) -> list[dict]:\n",
        "    \"\"\"\n",
        "    Sort a list of dictionaries by the given key.\n",
        "    Uses a lambda to extract the sort key.\n",
        "    \"\"\"\n",
        "    return sorted(data, key=lambda x: x[key], reverse=reverse)\n"
      ],
      "metadata": {
        "id": "uiMW9m3Ihs8I"
      },
      "execution_count": 2,
      "outputs": []
    },
    {
      "cell_type": "code",
      "source": [
        "# the analysis is\n",
        "# Both implementations rely on Python’s built‑in sorted, which performs a Timsort (O(n log n)) under the hood.\n",
        "#  The AI‑suggested version uses operator.itemgetter(key), which is implemented in C and thus slightly faster than a Python lambda for large datasets, because it avoids the overhead of a Python function call on each comparison.\n",
        "#  In contrast, the manual lambda executes a Python-level function for each element, incurring more interpreter overhead.\n",
        "# Empirical micro‑benchmarks on sufficiently large lists (e.g., >100 000 elements) show itemgetter can be 10–15% faster.\n",
        "#  However, for small to medium lists, the difference is negligible, and readability often takes precedence.\n",
        "# Both are equally maintainable, but when optimizing for high‑volume data pipelines, preferring itemgetter is marginally more efficient.\n",
        "\n"
      ],
      "metadata": {
        "id": "jWxYE5nPhz-P"
      },
      "execution_count": null,
      "outputs": []
    },
    {
      "cell_type": "code",
      "source": [
        "{\n",
        "  \"id\": \"login-test\",\n",
        "  \"name\": \"Login Page AI-Enhanced Test\",\n",
        "  \"tests\": [\n",
        "    {\n",
        "      \"commands\": [\n",
        "        { \"command\": \"open\", \"target\": \"/login\", \"value\": \"\" },\n",
        "        { \"command\": \"type\", \"target\": \"id=username\", \"value\": \"valid_user\" },\n",
        "        { \"command\": \"type\", \"target\": \"id=password\", \"value\": \"correct_pass\" },\n",
        "        { \"command\": \"click\", \"target\": \"css=button[type=submit]\", \"value\": \"\" },\n",
        "        { \"command\": \"assertText\", \"target\": \"css=.welcome-msg\", \"value\": \"Welcome\" },\n",
        "\n",
        "        { \"command\": \"type\", \"target\": \"id=username\", \"value\": \"invalid\" },\n",
        "        { \"command\": \"type\", \"target\": \"id=password\", \"value\": \"wrong\" },\n",
        "        { \"command\": \"click\", \"target\": \"css=button[type=submit]\", \"value\": \"\" },\n",
        "        { \"command\": \"assertText\", \"target\": \"css=.error-msg\", \"value\": \"Invalid credentials\" }\n",
        "      ]\n",
        "    }\n",
        "  ]\n",
        "}\n"
      ],
      "metadata": {
        "colab": {
          "base_uri": "https://localhost:8080/"
        },
        "id": "b1jyC48GiHXd",
        "outputId": "c404757a-fcfc-4756-e263-d2609c9e0f8d"
      },
      "execution_count": 5,
      "outputs": [
        {
          "output_type": "execute_result",
          "data": {
            "text/plain": [
              "{'id': 'login-test',\n",
              " 'name': 'Login Page AI-Enhanced Test',\n",
              " 'tests': [{'commands': [{'command': 'open', 'target': '/login', 'value': ''},\n",
              "    {'command': 'type', 'target': 'id=username', 'value': 'valid_user'},\n",
              "    {'command': 'type', 'target': 'id=password', 'value': 'correct_pass'},\n",
              "    {'command': 'click', 'target': 'css=button[type=submit]', 'value': ''},\n",
              "    {'command': 'assertText',\n",
              "     'target': 'css=.welcome-msg',\n",
              "     'value': 'Welcome'},\n",
              "    {'command': 'type', 'target': 'id=username', 'value': 'invalid'},\n",
              "    {'command': 'type', 'target': 'id=password', 'value': 'wrong'},\n",
              "    {'command': 'click', 'target': 'css=button[type=submit]', 'value': ''},\n",
              "    {'command': 'assertText',\n",
              "     'target': 'css=.error-msg',\n",
              "     'value': 'Invalid credentials'}]}]}"
            ]
          },
          "metadata": {},
          "execution_count": 5
        }
      ]
    },
    {
      "cell_type": "code",
      "source": [
        "# 1. Imports\n",
        "import pandas as pd\n",
        "from sklearn.model_selection import train_test_split\n",
        "from sklearn.ensemble import RandomForestClassifier\n",
        "from sklearn.metrics import accuracy_score, f1_score\n",
        "from sklearn.datasets import load_breast_cancer\n",
        "\n",
        "# 2. Load & Inspect Data from sklearn\n",
        "raw = load_breast_cancer(as_frame=True)\n",
        "data = raw.frame\n",
        "\n",
        "# 3. Create a dummy 'priority' column: malignant = high, benign = low\n",
        "data['diagnosis'] = raw.target_names[raw.target]  # Converts 0/1 to 'malignant'/'benign'\n",
        "data['priority'] = data['diagnosis'].map({'malignant': 'high', 'benign': 'low'})\n",
        "\n",
        "# 4. Prepare features (X) and target (y)\n",
        "X = data.drop(columns=['target', 'diagnosis', 'priority'])\n",
        "y = data['priority']\n",
        "\n",
        "# 5. Train/Test Split\n",
        "X_train, X_test, y_train, y_test = train_test_split(\n",
        "    X, y, stratify=y, test_size=0.2, random_state=42\n",
        ")\n",
        "\n",
        "# 6. Model Training\n",
        "clf = RandomForestClassifier(n_estimators=100, random_state=42)\n",
        "clf.fit(X_train, y_train)\n",
        "\n",
        "# 7. Evaluation\n",
        "y_pred = clf.predict(X_test)\n",
        "acc = accuracy_score(y_test, y_pred)\n",
        "f1 = f1_score(y_test, y_pred, pos_label='high')\n",
        "\n",
        "# 8. Results\n",
        "print(f\"Accuracy: {acc:.3f}\")\n",
        "print(f\"F1‑Score (high priority): {f1:.3f}\")\n"
      ],
      "metadata": {
        "colab": {
          "base_uri": "https://localhost:8080/"
        },
        "id": "WL_v-r3Fiqza",
        "outputId": "91c70b9d-de63-4caa-ce6a-e479630385bf"
      },
      "execution_count": 7,
      "outputs": [
        {
          "output_type": "stream",
          "name": "stdout",
          "text": [
            "Accuracy: 0.956\n",
            "F1‑Score (high priority): 0.940\n"
          ]
        }
      ]
    }
  ]
}